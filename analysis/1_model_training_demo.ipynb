{
 "cells": [
  {
   "cell_type": "markdown",
   "id": "bb347a483f35a89d",
   "metadata": {},
   "source": [
    "Model training with Toc-BTSTN"
   ]
  },
  {
   "cell_type": "code",
   "id": "30c9538a44b9a764",
   "metadata": {},
   "source": [
    "import os\n",
    "import sys\n",
    "sys.path.insert(0, '/Users/xushaohua/Projects/Toc-BTSTN')\n",
    "\n",
    "import pandas as pd\n",
    "from scripts.train import BTSTN\n",
    "\n",
    "%load_ext autoreload\n",
    "%autoreload 2"
   ],
   "outputs": [],
   "execution_count": null
  },
  {
   "metadata": {},
   "cell_type": "code",
   "source": [
    "# Read data\n",
    "odata = pd.read_csv(\"./data/observe_data.csv\", sep=\",\")\n",
    "pdata = pd.read_csv(\"./data/perturb_data.csv\", sep=\",\")"
   ],
   "id": "c2264252d2289db3",
   "outputs": [],
   "execution_count": null
  },
  {
   "cell_type": "code",
   "id": "9a5e7cddde9d4a19",
   "metadata": {},
   "source": [
    "# Initialize the model\n",
    "obj = BTSTN(\n",
    "    o_features=2,\n",
    "    o_hid_dims=2,\n",
    "    p_features=1,\n",
    "    g_inner=32,\n",
    "    g_layer=6,\n",
    "    g_dropout=0,\n",
    "    g_activation={\"fc_name\": \"relu\"},\n",
    "    d_inner=32,\n",
    "    d_layer=1,\n",
    "    d_dropout=0,\n",
    "    d_activation={\"fc_name\": \"relu\"},\n",
    "    unit=0.1,\n",
    "    dropna=False,\n",
    "    scale=\"MinMax\"\n",
    ")"
   ],
   "outputs": [],
   "execution_count": null
  },
  {
   "metadata": {
    "collapsed": true
   },
   "cell_type": "code",
   "source": [
    "# Train data\n",
    "train_set = ['Train_1', 'Train_2', 'Train_3', 'Train_4', 'Train_5', 'Train_6']\n",
    "odata_train = odata.loc[odata['batch'].isin(train_set), :].reset_index(drop=True)\n",
    "pdata_train = pdata.loc[pdata['batch'].isin(train_set), :].reset_index(drop=True)\n",
    "\n",
    "saving_path = '/Users/xushaohua/Projects/Toc-BTSTN/analysis/model/'\n",
    "saving_prefix = 'vdp_model'\n",
    "os.makedirs(os.path.join(saving_path, saving_prefix), exist_ok=True)\n",
    "\n",
    "# Train model\n",
    "loss = obj.fit(\n",
    "    odata=odata_train,\n",
    "    pdata=pdata_train,\n",
    "    max_gap=15,\n",
    "    learning_rate=0.01,\n",
    "    decay_gamma=0.98,\n",
    "    epoch=500,\n",
    "    patience=50,\n",
    "    batch_size=1500,\n",
    "    gpu_id=-1,\n",
    "    saving_path=saving_path,\n",
    "    saving_prefix=saving_prefix,\n",
    "    ckpt_path=saving_path,\n",
    "    ckpt_prefix=saving_prefix,\n",
    "    ckpt_freq=50,\n",
    "    ckpt_resume_epoch=None,\n",
    ")"
   ],
   "id": "initial_id",
   "outputs": [],
   "execution_count": null
  },
  {
   "cell_type": "code",
   "id": "870356da113ad92c",
   "metadata": {},
   "source": [],
   "outputs": [],
   "execution_count": null
  }
 ],
 "metadata": {
  "kernelspec": {
   "display_name": "Python 3",
   "language": "python",
   "name": "python3"
  },
  "language_info": {
   "codemirror_mode": {
    "name": "ipython",
    "version": 2
   },
   "file_extension": ".py",
   "mimetype": "text/x-python",
   "name": "python",
   "nbconvert_exporter": "python",
   "pygments_lexer": "ipython2",
   "version": "2.7.6"
  }
 },
 "nbformat": 4,
 "nbformat_minor": 5
}
