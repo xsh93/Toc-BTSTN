{
 "cells": [
  {
   "cell_type": "markdown",
   "id": "bb347a483f35a89d",
   "metadata": {},
   "source": [
    "Model training with Toc-BTSTN"
   ]
  },
  {
   "cell_type": "code",
   "execution_count": 2,
   "id": "30c9538a44b9a764",
   "metadata": {
    "ExecuteTime": {
     "end_time": "2025-07-02T14:24:30.568928Z",
     "start_time": "2025-07-02T14:24:28.228399Z"
    }
   },
   "outputs": [],
   "source": [
    "import pandas as pd\n",
    "from scripts.train import BTSTN # set path to import scripts\n",
    "\n",
    "%load_ext autoreload\n",
    "%autoreload 2"
   ]
  },
  {
   "cell_type": "code",
   "execution_count": 5,
   "id": "initial_id",
   "metadata": {
    "ExecuteTime": {
     "end_time": "2025-07-02T14:24:58.339479Z",
     "start_time": "2025-07-02T14:24:58.314178Z"
    },
    "collapsed": true
   },
   "outputs": [
    {
     "name": "stdout",
     "output_type": "stream",
     "text": [
      "(3000, 4)\n"
     ]
    }
   ],
   "source": [
    "# Read data\n",
    "odata = pd.read_csv(\"./data/observe_data.csv\", sep=\",\")\n",
    "pdata = pd.read_csv(\"./data/perturb_data.csv\", sep=\",\")\n",
    "\n",
    "# Train data\n",
    "train_set = ['Train_1', 'Train_2', 'Train_3', 'Train_4', 'Train_5', 'Train_6']\n",
    "odata_train = odata.loc[odata['batch'].isin(train_set), :].reset_index(drop=True)\n",
    "pdata_train = pdata.loc[pdata['batch'].isin(train_set), :].reset_index(drop=True)\n",
    "print(odata_train.shape)"
   ]
  },
  {
   "cell_type": "code",
   "execution_count": 3,
   "id": "9a5e7cddde9d4a19",
   "metadata": {
    "ExecuteTime": {
     "end_time": "2025-05-10T06:20:32.851004Z",
     "start_time": "2025-05-10T06:20:32.828487Z"
    }
   },
   "outputs": [],
   "source": [
    "# Set model\n",
    "o_hid_dims = 2\n",
    "g_inner = 32\n",
    "g_layer = 6\n",
    "d_inner = 32\n",
    "d_layer = 1\n",
    "\n",
    "obj = BTSTN(\n",
    "    o_features=2,\n",
    "    o_hid_dims=o_hid_dims,\n",
    "    p_features=1,\n",
    "    g_inner=g_inner,\n",
    "    g_layer=g_layer,\n",
    "    g_dropout=0,\n",
    "    g_activation={\"fc_name\": \"relu\"},\n",
    "    d_inner=d_inner,\n",
    "    d_layer=d_layer,\n",
    "    d_dropout=0,\n",
    "    d_activation={\"fc_name\": \"relu\"},\n",
    "    unit=0.1,\n",
    "    dropna=False,\n",
    "    scale=\"MinMax\"\n",
    ")"
   ]
  },
  {
   "cell_type": "code",
   "execution_count": null,
   "id": "f221b8766230be02",
   "metadata": {},
   "outputs": [],
   "source": [
    "epoch, patience = 500, 50\n",
    "max_gap = 15\n",
    "model_idx = 1\n",
    "path = \"./model/\"\n",
    "prefix = \"vdp_model\"\n",
    "ckpt_freq = 50\n",
    "ckpt_resume_epoch = None\n",
    "\n",
    "# Train model\n",
    "loss = obj.fit(\n",
    "    odata=odata_train,\n",
    "    pdata=pdata_train,\n",
    "    max_gap=max_gap,\n",
    "    learning_rate=0.01,\n",
    "    decay_gamma=0.98,\n",
    "    epoch=epoch,\n",
    "    patience=patience,\n",
    "    batch_size=1500,\n",
    "    gpu_id=-1,\n",
    "    saving_path=path,\n",
    "    saving_prefix=prefix,\n",
    "    ckpt_path=path,\n",
    "    ckpt_prefix=prefix,\n",
    "    ckpt_freq=ckpt_freq,\n",
    "    ckpt_resume_epoch=ckpt_resume_epoch,\n",
    ")"
   ]
  },
  {
   "cell_type": "code",
   "execution_count": null,
   "id": "870356da113ad92c",
   "metadata": {},
   "outputs": [],
   "source": []
  }
 ],
 "metadata": {
  "kernelspec": {
   "display_name": "Python 3",
   "language": "python",
   "name": "python3"
  },
  "language_info": {
   "codemirror_mode": {
    "name": "ipython",
    "version": 2
   },
   "file_extension": ".py",
   "mimetype": "text/x-python",
   "name": "python",
   "nbconvert_exporter": "python",
   "pygments_lexer": "ipython2",
   "version": "2.7.6"
  }
 },
 "nbformat": 4,
 "nbformat_minor": 5
}
