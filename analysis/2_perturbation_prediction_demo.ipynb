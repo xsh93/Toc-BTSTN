{
 "cells": [
  {
   "metadata": {},
   "cell_type": "markdown",
   "source": "Prediction under perturbations with trained Toc-BTSTN model",
   "id": "b304a1617d48eb96"
  },
  {
   "metadata": {
    "collapsed": true
   },
   "cell_type": "code",
   "source": [
    "import sys\n",
    "sys.path.insert(0, '/Users/xushaohua/Projects/Toc-BTSTN')\n",
    "\n",
    "import pandas as pd\n",
    "from scripts.train import BTSTN\n",
    "\n",
    "%load_ext autoreload\n",
    "%autoreload 2"
   ],
   "id": "initial_id",
   "outputs": [],
   "execution_count": null
  },
  {
   "metadata": {},
   "cell_type": "code",
   "source": [
    "# Read data\n",
    "odata = pd.read_csv(\"./data/observe_data.csv\", sep=\",\")\n",
    "pdata = pd.read_csv(\"./data/perturb_data.csv\", sep=\",\")\n",
    "\n",
    "# Test data\n",
    "test_set = ['Test_1']\n",
    "odata_test = odata.loc[odata['batch'].isin(test_set), :].reset_index(drop=True)\n",
    "pdata_test = pdata.loc[pdata['batch'].isin(test_set), :].reset_index(drop=True)\n",
    "print(odata_test.shape)"
   ],
   "id": "f3792a2bca78e00a",
   "outputs": [],
   "execution_count": null
  },
  {
   "metadata": {},
   "cell_type": "code",
   "source": [
    "# Load model\n",
    "obj = BTSTN.load_pretrained(ipath=\"/Users/xushaohua/Projects/Toc-BTSTN/analysis/model/\", model_name=\"vdp_model\")\n",
    "\n",
    "# Time-series prediction under perturbations\n",
    "pred_data = obj.forecast(\n",
    "    odata=odata_test.iloc[:1, :].reset_index(drop=True),\n",
    "    pdata=pdata_test.iloc[:1, :].reset_index(drop=True),\n",
    "    sdata=pdata_test[0:-1].reset_index(drop=True),\n",
    "    start=0,\n",
    "    reset=True,\n",
    "    max_gap=15,\n",
    "    learning_rate=0.01,\n",
    "    decay_gamma=0.98,\n",
    "    epoch=1000,\n",
    "    patience=100,\n",
    "    batch_size=250,\n",
    "    gpu_id=-1\n",
    ")"
   ],
   "id": "857ee3037d703913",
   "outputs": [],
   "execution_count": null
  },
  {
   "metadata": {},
   "cell_type": "code",
   "source": "",
   "id": "9214677855a9f955",
   "outputs": [],
   "execution_count": null
  }
 ],
 "metadata": {
  "kernelspec": {
   "display_name": "Python 3",
   "language": "python",
   "name": "python3"
  },
  "language_info": {
   "codemirror_mode": {
    "name": "ipython",
    "version": 2
   },
   "file_extension": ".py",
   "mimetype": "text/x-python",
   "name": "python",
   "nbconvert_exporter": "python",
   "pygments_lexer": "ipython2",
   "version": "2.7.6"
  }
 },
 "nbformat": 4,
 "nbformat_minor": 5
}
