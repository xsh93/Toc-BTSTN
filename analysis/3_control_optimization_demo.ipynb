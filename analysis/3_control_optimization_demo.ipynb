{
 "cells": [
  {
   "metadata": {},
   "cell_type": "markdown",
   "source": "Target-directed optimization of the control strategies",
   "id": "b4d49769a1500ad3"
  },
  {
   "metadata": {},
   "cell_type": "code",
   "source": [
    "import sys\n",
    "sys.path.insert(0, '/Users/xushaohua/Projects/Toc-BTSTN')\n",
    "\n",
    "import pandas as pd\n",
    "from scripts.train import BTSTN\n",
    "\n",
    "%load_ext autoreload\n",
    "%autoreload 2"
   ],
   "id": "3642c5d345117bf4",
   "outputs": [],
   "execution_count": null
  },
  {
   "metadata": {},
   "cell_type": "code",
   "source": [
    "# Read data\n",
    "odata = pd.read_csv(\"./data/observe_data.csv\", sep=\",\")\n",
    "pdata = pd.read_csv(\"./data/perturb_data.csv\", sep=\",\")\n",
    "\n",
    "# Test data\n",
    "test_set = ['Test_1']\n",
    "odata_test = odata.loc[odata['batch'].isin(test_set), :].reset_index(drop=True)\n",
    "pdata_test = pdata.loc[pdata['batch'].isin(test_set), :].reset_index(drop=True)\n",
    "print(odata_test.shape)"
   ],
   "id": "59b8ab186d04aacc",
   "outputs": [],
   "execution_count": null
  },
  {
   "metadata": {},
   "cell_type": "code",
   "source": [
    "# Load model\n",
    "obj = BTSTN.load_pretrained(ipath=\"/Users/xushaohua/Projects/Toc-BTSTN/analysis/model/\", model_name=\"vdp_model\")\n",
    "\n",
    "# Set target\n",
    "rdata = pd.DataFrame([[1.5, 0]], columns=['x', 'y'])\n",
    "pred_step = 500\n",
    "\n",
    "# Optimization of control strategies\n",
    "scheme = obj.search_scheme(\n",
    "    odata=odata_test.iloc[:1, :].reset_index(drop=True),\n",
    "    pdata=pdata_test.iloc[:1, :].reset_index(drop=True),\n",
    "    rdata=rdata,\n",
    "    start=-1,\n",
    "    pred_step=pred_step,\n",
    "    n_scheme=-1,\n",
    "    reset=True,\n",
    "    max_gap=15,\n",
    "    learning_rate=0.01,\n",
    "    decay_gamma=0.97,\n",
    "    epoch=500,\n",
    "    patience=30,\n",
    "    batch_size=250,\n",
    "    gpu_id=-1\n",
    ")"
   ],
   "id": "8aec5d1c6ad01d26",
   "outputs": [],
   "execution_count": null
  },
  {
   "metadata": {},
   "cell_type": "code",
   "source": "",
   "id": "c5c6610fbc36534b",
   "outputs": [],
   "execution_count": null
  }
 ],
 "metadata": {
  "kernelspec": {
   "display_name": "Python 3",
   "language": "python",
   "name": "python3"
  },
  "language_info": {
   "codemirror_mode": {
    "name": "ipython",
    "version": 2
   },
   "file_extension": ".py",
   "mimetype": "text/x-python",
   "name": "python",
   "nbconvert_exporter": "python",
   "pygments_lexer": "ipython2",
   "version": "2.7.6"
  }
 },
 "nbformat": 4,
 "nbformat_minor": 5
}
